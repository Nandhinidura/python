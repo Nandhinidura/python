{
  "nbformat": 4,
  "nbformat_minor": 0,
  "metadata": {
    "colab": {
      "name": "Assignment 0 new.ipynb",
      "provenance": [],
      "collapsed_sections": [],
      "authorship_tag": "ABX9TyMen3GNXWLtd1fVR7icIfOe",
      "include_colab_link": true
    },
    "kernelspec": {
      "name": "python3",
      "display_name": "Python 3"
    },
    "language_info": {
      "name": "python"
    }
  },
  "cells": [
    {
      "cell_type": "markdown",
      "metadata": {
        "id": "view-in-github",
        "colab_type": "text"
      },
      "source": [
        "<a href=\"https://colab.research.google.com/github/Nandhinidura/python/blob/main/Assignment_0_new.ipynb\" target=\"_parent\"><img src=\"https://colab.research.google.com/assets/colab-badge.svg\" alt=\"Open In Colab\"/></a>"
      ]
    },
    {
      "cell_type": "markdown",
      "source": [
        "Assignment 0                                                        \n",
        "\n",
        "Registration and Login system with Python, file handling\n",
        "\n",
        "STAGE -- 1 \n",
        "Registration\n",
        "\n",
        "When the user chooses to Register\n",
        "\n",
        "---> email/username should have \"@\" and followed by \".\"\n",
        "      eg:- sherlock@gmail.com\n",
        "            nothing@yahoo.in\n",
        "\n",
        "---> it should not be like this \n",
        "       eg:- @gmail.com\n",
        "            there should not be any \".\" immediate next to \"@\"\n",
        "            my@.in\n",
        "            it should not start with special characters and numbers\n",
        "\n",
        "---> password (5 < password length > 16)\n",
        "              Must have minimum one special character,\n",
        "              one digit,\n",
        "              one uppercase, \n",
        "              one lowercase character \n",
        "\n",
        "Stage 2 \n",
        "  Once the username and password are validated, store those values in a file\n",
        "\n",
        "\n",
        "\n",
        "\n",
        "\n",
        "Stage 3\n",
        "Login\n",
        " When the user chooses to Login, check whether his/her credentials exist in the file or not based on the user input \n",
        "If doesn’t exist ask them to go for Registration or \n",
        "If they have chosen forget password you should be able to retrieve their original password based on their username provided in the user input\n",
        "If nothing matches in your file you should ask them to Register\n"
      ],
      "metadata": {
        "id": "dSsKG4bxPrMK"
      }
    },
    {
      "cell_type": "code",
      "source": [
        ""
      ],
      "metadata": {
        "id": "wZQFnpmzPzsl"
      },
      "execution_count": null,
      "outputs": []
    },
    {
      "cell_type": "code",
      "source": [
        "from google.colab import drive\n",
        "drive.mount('/content/drive')"
      ],
      "metadata": {
        "id": "4GKodUd1PfPY"
      },
      "execution_count": null,
      "outputs": []
    },
    {
      "cell_type": "code",
      "source": [
        "count=3\n",
        "class google:\n",
        "  def __init__(self):\n",
        "    google.Username(self)\n",
        "  def Username(self):\n",
        "    Username=input('Please provide a new username:\\nUsername:\\t')\n",
        "    self.Username=Username\n",
        "    import re\n",
        "    spl= re.findall('@\\.+',Username)                                      \n",
        "    if '@' in Username and '.' in Username and Username[0].isalpha()==True and len(spl)==0:\n",
        "      google.Password(self)\n",
        "    else:\n",
        "      print('Invalid username....')\n",
        "  def Password(self):\n",
        "    Password=input('''Please provide a new password:\\nPlease remember that the password must have the following:\n",
        "    \\n1.length between 5 and 16\\n2.a number\\n3.a lowercase letter\\n4.a uppercase letter\\n5.a special character\\nNew Password:\\t''')\n",
        "    if len(Password)>=5 and len(Password)<=16:\n",
        "      num= any( x.isnumeric()==True for x in Password)\n",
        "      if num==True:\n",
        "        pass\n",
        "      else:\n",
        "        print('Password must contain atleast one number.....')\n",
        "      up= any( x.isupper()==True for x in Password)\n",
        "      if up==True:\n",
        "        pass\n",
        "      else:\n",
        "        print('Password must contain atleast one lowercase....')\n",
        "      low= any( x.islower()==True for x in Password)\n",
        "      if low==True:\n",
        "        pass\n",
        "      else:\n",
        "        print('Password must contain atleast one uppercase....')\n",
        "      from string import ascii_letters\n",
        "      if set(Password).difference(ascii_letters):\n",
        "        file=open('/nandhu.txt','a+')     \n",
        "        file.write('Username: ')\n",
        "        file.write(self.Username)\n",
        "        file.write(' Password: ')\n",
        "        file.write(Password)\n",
        "        file.write(\"\\n\")\n",
        "        file.close()                \n",
        "        print('Sucessfully Registered')\n",
        "      else:\n",
        "        print('Password must contain atleast one special character.......')\n",
        "    else:\n",
        "      print('Password should contain minimum of 5 and maximum of 16 characters......')\n",
        "\n",
        "class u1:\n",
        "  def __init__(self):\n",
        "    self.Username=input('Please enter your login credentials:\\nUsername:\\t')  \n",
        "    self.Password=input('Password:\\t')                                       \n",
        "    u1.validation(self)\n",
        "  def count(self):\n",
        "    global count\n",
        "    count-=1\n",
        "  def Fpassword(self):\n",
        "    file=open('/nandhu.txt','r')         \n",
        "    for line in file.readlines():\n",
        "      login_info=line.split()\n",
        "      if self.Username==login_info[1]:\n",
        "        print('Your password is:',login_info[3])\n",
        "        file.close()                  \n",
        "        return True\n",
        "    print('Username does not exist.\\nPlease register to continue.')\n",
        "    return False\n",
        "  def validation(self):\n",
        "    file=open('/nandhu.txt','r')\n",
        "    for line in file.readlines():\n",
        "      login_info=line.split()\n",
        "      if self.Username == login_info[1] and self.Password == login_info[3]:\n",
        "        print('login sucessfully')\n",
        "        file.close()\n",
        "        return True\n",
        "    print('Incorrect Username\\Password\\n')\n",
        "    x=int(input('Forgot Password?\\tIf yes enter 0 or enter 1 to try again\\t'))\n",
        "    if x==0:\n",
        "      u1.Fpassword(self)\n",
        "    else:\n",
        "      u1.count(self)\n",
        "      if count>0:\n",
        "        print(f'You have {count} attempts left......... ')\n",
        "        u1()\n",
        "      else:\n",
        "        print('Maximum attempts reached........')\n",
        "\n",
        "print('Welcome')\n",
        "print('User Sign Up\\ Login')\n",
        "print('To create a new account enter 0\\nTo login enter 1')\n",
        "x=int(input())\n",
        "if x==0:\n",
        "  google()\n",
        "else:\n",
        "  u1()"
      ],
      "metadata": {
        "id": "-UxeITXRPQ_B"
      },
      "execution_count": null,
      "outputs": []
    }
  ]
}
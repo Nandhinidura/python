{
  "nbformat": 4,
  "nbformat_minor": 0,
  "metadata": {
    "colab": {
      "name": "Basics of numpy by nethaji.ipynb",
      "provenance": [],
      "collapsed_sections": [],
      "authorship_tag": "ABX9TyMF9ji0rc9R0Bmlzb7UQS2z",
      "include_colab_link": true
    },
    "kernelspec": {
      "name": "python3",
      "display_name": "Python 3"
    },
    "language_info": {
      "name": "python"
    }
  },
  "cells": [
    {
      "cell_type": "markdown",
      "metadata": {
        "id": "view-in-github",
        "colab_type": "text"
      },
      "source": [
        "<a href=\"https://colab.research.google.com/github/Nandhinidura/python/blob/main/Basics_of_numpy_by_nethaji.ipynb\" target=\"_parent\"><img src=\"https://colab.research.google.com/assets/colab-badge.svg\" alt=\"Open In Colab\"/></a>"
      ]
    },
    {
      "cell_type": "code",
      "execution_count": null,
      "metadata": {
        "colab": {
          "base_uri": "https://localhost:8080/"
        },
        "id": "Y32TJHhRh3Ey",
        "outputId": "69324907-7467-47db-ade8-3b0bc8a02f6b"
      },
      "outputs": [
        {
          "output_type": "execute_result",
          "data": {
            "text/plain": [
              "array([[1, 2, 3, 4],\n",
              "       [1, 2, 3, 4]])"
            ]
          },
          "metadata": {},
          "execution_count": 4
        }
      ],
      "source": [
        "import numpy as np\n",
        "n = np.array([1,2,3,4])\n",
        "dd = np.array([[1,2,3,4],[1,2,3,4]])\n",
        "dd"
      ]
    },
    {
      "cell_type": "code",
      "source": [
        "np.zeros(10)"
      ],
      "metadata": {
        "colab": {
          "base_uri": "https://localhost:8080/"
        },
        "id": "AMEFNoUke9TL",
        "outputId": "bb339bc4-d70a-4635-c8b7-7d59896a0f37"
      },
      "execution_count": null,
      "outputs": [
        {
          "output_type": "execute_result",
          "data": {
            "text/plain": [
              "array([0., 0., 0., 0., 0., 0., 0., 0., 0., 0.])"
            ]
          },
          "metadata": {},
          "execution_count": 5
        }
      ]
    },
    {
      "cell_type": "code",
      "source": [
        "np.ones(10)"
      ],
      "metadata": {
        "colab": {
          "base_uri": "https://localhost:8080/"
        },
        "id": "iaxdOWOjfXSQ",
        "outputId": "5f801a5f-e5d2-4cb5-e81f-fbec65a74458"
      },
      "execution_count": null,
      "outputs": [
        {
          "output_type": "execute_result",
          "data": {
            "text/plain": [
              "array([1., 1., 1., 1., 1., 1., 1., 1., 1., 1.])"
            ]
          },
          "metadata": {},
          "execution_count": 6
        }
      ]
    },
    {
      "cell_type": "code",
      "source": [
        "np.random.random(10)"
      ],
      "metadata": {
        "colab": {
          "base_uri": "https://localhost:8080/"
        },
        "id": "P4W-sHR_fiFq",
        "outputId": "171a13ce-c5f3-4b9e-a666-5c6cfb91f85a"
      },
      "execution_count": null,
      "outputs": [
        {
          "output_type": "execute_result",
          "data": {
            "text/plain": [
              "array([0.9605276 , 0.90837926, 0.33104265, 0.85030974, 0.1638547 ,\n",
              "       0.41051284, 0.96365991, 0.60717958, 0.81771711, 0.86699815])"
            ]
          },
          "metadata": {},
          "execution_count": 7
        }
      ]
    },
    {
      "cell_type": "code",
      "source": [
        "np.random.random((3,2))"
      ],
      "metadata": {
        "colab": {
          "base_uri": "https://localhost:8080/"
        },
        "id": "FOPDr73nfxgM",
        "outputId": "68f45790-60ce-43b1-e65a-7fb6e27c6a2f"
      },
      "execution_count": null,
      "outputs": [
        {
          "output_type": "execute_result",
          "data": {
            "text/plain": [
              "array([[0.97284313, 0.80508246],\n",
              "       [0.76884287, 0.3808334 ],\n",
              "       [0.09582346, 0.88300733]])"
            ]
          },
          "metadata": {},
          "execution_count": 9
        }
      ]
    },
    {
      "cell_type": "code",
      "source": [
        "a = np.random.random((3,2))\n",
        "a"
      ],
      "metadata": {
        "colab": {
          "base_uri": "https://localhost:8080/"
        },
        "id": "2d6pppFFgNPP",
        "outputId": "1f117a8c-958b-4ea8-a6bf-93be886164b1"
      },
      "execution_count": null,
      "outputs": [
        {
          "output_type": "execute_result",
          "data": {
            "text/plain": [
              "array([[0.63515376, 0.35498567],\n",
              "       [0.48011063, 0.60050327],\n",
              "       [0.67840496, 0.52507066]])"
            ]
          },
          "metadata": {},
          "execution_count": 10
        }
      ]
    },
    {
      "cell_type": "code",
      "source": [
        "#nandhu saved in google drive let's check nandhu.npy\n",
        "np.save(\"nandhu\",a)"
      ],
      "metadata": {
        "id": "h8r1qtELgRNn"
      },
      "execution_count": null,
      "outputs": []
    },
    {
      "cell_type": "code",
      "source": [
        "b = np.load(\"/content/nandhu.npy\")\n",
        "b"
      ],
      "metadata": {
        "colab": {
          "base_uri": "https://localhost:8080/"
        },
        "id": "kC8sfTYKg6t_",
        "outputId": "377e31f2-4fa0-4341-c0e4-360c4b951fe5"
      },
      "execution_count": null,
      "outputs": [
        {
          "output_type": "execute_result",
          "data": {
            "text/plain": [
              "array([[0.63515376, 0.35498567],\n",
              "       [0.48011063, 0.60050327],\n",
              "       [0.67840496, 0.52507066]])"
            ]
          },
          "metadata": {},
          "execution_count": 14
        }
      ]
    },
    {
      "cell_type": "code",
      "source": [
        "#n.txt saved in the google drive let's check.....\n",
        "np.savetxt(\"n.txt\",a)"
      ],
      "metadata": {
        "id": "ypkjFnBGhjNB"
      },
      "execution_count": null,
      "outputs": []
    },
    {
      "cell_type": "code",
      "source": [
        "a =[1,2,3]\n",
        "b =[2,3,4]\n",
        "print(np.add(a,b))"
      ],
      "metadata": {
        "colab": {
          "base_uri": "https://localhost:8080/"
        },
        "id": "eAFMlwQtiHuv",
        "outputId": "92113305-4be3-483d-cb3b-3b22ef1fc08e"
      },
      "execution_count": null,
      "outputs": [
        {
          "output_type": "stream",
          "name": "stdout",
          "text": [
            "[3 5 7]\n"
          ]
        }
      ]
    },
    {
      "cell_type": "code",
      "source": [
        "np.exp(a)"
      ],
      "metadata": {
        "colab": {
          "base_uri": "https://localhost:8080/"
        },
        "id": "hECs39Fhiaf9",
        "outputId": "ca0d4951-f769-447f-ee9e-268dea1154b8"
      },
      "execution_count": null,
      "outputs": [
        {
          "output_type": "execute_result",
          "data": {
            "text/plain": [
              "array([ 2.71828183,  7.3890561 , 20.08553692])"
            ]
          },
          "metadata": {},
          "execution_count": 17
        }
      ]
    },
    {
      "cell_type": "code",
      "source": [
        "print(np.sqrt(a))"
      ],
      "metadata": {
        "colab": {
          "base_uri": "https://localhost:8080/"
        },
        "id": "coIpmHEGit5K",
        "outputId": "22346939-d3c2-462c-e5f7-0c51f4da8af0"
      },
      "execution_count": null,
      "outputs": [
        {
          "output_type": "stream",
          "name": "stdout",
          "text": [
            "[1.         1.41421356 1.73205081]\n"
          ]
        }
      ]
    },
    {
      "cell_type": "code",
      "source": [
        "print(np.sin(a))"
      ],
      "metadata": {
        "colab": {
          "base_uri": "https://localhost:8080/"
        },
        "id": "1n_giy4hi_7y",
        "outputId": "c6a4d4b2-e789-45ab-eb52-0498b7bf22f4"
      },
      "execution_count": null,
      "outputs": [
        {
          "output_type": "stream",
          "name": "stdout",
          "text": [
            "[0.84147098 0.90929743 0.14112001]\n"
          ]
        }
      ]
    },
    {
      "cell_type": "code",
      "source": [
        "print(np.log(10))"
      ],
      "metadata": {
        "colab": {
          "base_uri": "https://localhost:8080/"
        },
        "id": "ypKF_VWhjKGo",
        "outputId": "79e3c87a-5cfe-48ad-e2e4-d4c9056c0b66"
      },
      "execution_count": null,
      "outputs": [
        {
          "output_type": "stream",
          "name": "stdout",
          "text": [
            "2.302585092994046\n"
          ]
        }
      ]
    },
    {
      "cell_type": "code",
      "source": [
        "n.sum()"
      ],
      "metadata": {
        "colab": {
          "base_uri": "https://localhost:8080/"
        },
        "id": "mCOgizQ7kKik",
        "outputId": "edb39925-041a-4d0a-e039-c4ceb40c4068"
      },
      "execution_count": null,
      "outputs": [
        {
          "output_type": "execute_result",
          "data": {
            "text/plain": [
              "10"
            ]
          },
          "metadata": {},
          "execution_count": 22
        }
      ]
    },
    {
      "cell_type": "code",
      "source": [
        "np.sum(a)"
      ],
      "metadata": {
        "colab": {
          "base_uri": "https://localhost:8080/"
        },
        "id": "wlR23aT0kOXX",
        "outputId": "6fa47997-8a99-492e-be06-0f2ba3e404b9"
      },
      "execution_count": null,
      "outputs": [
        {
          "output_type": "execute_result",
          "data": {
            "text/plain": [
              "6"
            ]
          },
          "metadata": {},
          "execution_count": 23
        }
      ]
    },
    {
      "cell_type": "markdown",
      "source": [
        "Folder Handling\n"
      ],
      "metadata": {
        "id": "Si2TfG9HlZ8M"
      }
    },
    {
      "cell_type": "code",
      "source": [
        "#list what we are have the file actually.....\n",
        "!ls"
      ],
      "metadata": {
        "colab": {
          "base_uri": "https://localhost:8080/"
        },
        "id": "led3ObwdlclG",
        "outputId": "3641ff02-92aa-495e-c5f2-958a7290c100"
      },
      "execution_count": null,
      "outputs": [
        {
          "output_type": "stream",
          "name": "stdout",
          "text": [
            "nandhu.npy  n.txt  sample_data\n"
          ]
        }
      ]
    },
    {
      "cell_type": "code",
      "source": [
        "#!which dirctory am working now for that am using pwd-->present working directory...\n",
        "!pwd"
      ],
      "metadata": {
        "colab": {
          "base_uri": "https://localhost:8080/"
        },
        "id": "pvITMKu3loim",
        "outputId": "4edd58d0-8061-49a3-fe95-74575c64f6da"
      },
      "execution_count": null,
      "outputs": [
        {
          "output_type": "stream",
          "name": "stdout",
          "text": [
            "/content\n"
          ]
        }
      ]
    },
    {
      "cell_type": "code",
      "source": [
        "#mkdir is used to make directory give the krishna folder to my google drive......\n",
        "!mkdir krishna"
      ],
      "metadata": {
        "id": "IMKcdFKjnLtS"
      },
      "execution_count": null,
      "outputs": []
    },
    {
      "cell_type": "code",
      "source": [
        "#if i want to remove remove folder from the google drive you can use !rmdir\n",
        "!rmdir krishna"
      ],
      "metadata": {
        "id": "vVeu0k_RnLxo"
      },
      "execution_count": null,
      "outputs": []
    },
    {
      "cell_type": "code",
      "source": [
        "#creating directory to my google drive but above are the linux command in this python file folder making....\n",
        "import os\n",
        "os.mkdir(\"datascience\")"
      ],
      "metadata": {
        "id": "7WKeNgrioMsC"
      },
      "execution_count": null,
      "outputs": []
    },
    {
      "cell_type": "code",
      "source": [
        "#renaming directionary\n",
        "os.rename(\"datascience\",\"dw4\")"
      ],
      "metadata": {
        "id": "vhURIVt6qMzc"
      },
      "execution_count": null,
      "outputs": []
    },
    {
      "cell_type": "code",
      "source": [
        "#removing directionary\n",
        "os.rmdir(\"dw4\")"
      ],
      "metadata": {
        "id": "e36IaWS4rCYI"
      },
      "execution_count": null,
      "outputs": []
    },
    {
      "cell_type": "code",
      "source": [
        "#File Handling\n",
        "#create,modify-->read and write mode,delete\n",
        "#x-->Admin access the user print whatever you want\n",
        "#\"x\" - Create - will create a file, returns an error if the file exist\n",
        " \n",
        "file1= open(\"nirmal1.py\", \"x\")\n",
        " \n",
        "#\"w\" - Write - will create a file if the specified file does not exist\n",
        " \n",
        "file1 = open(\"guvi1.txt\", \"w\")\n"
      ],
      "metadata": {
        "id": "K14-rXlyrkE3"
      },
      "execution_count": null,
      "outputs": []
    },
    {
      "cell_type": "code",
      "source": [
        "#Write to an Existing File\n",
        "#To write to an existing file, you must add a parameter to the open() function:\n",
        " \n",
        "#\"a\" - Append - will append to the end of the file\n",
        " \n",
        "#\"w\" - Write - will overwrite any existing content\n",
        " \n",
        "file1 = open(\"guvi.txt\", \"w\")\n",
        "file1.write(\"aaaaaaaaaaaaaaa\")\n",
        "file1.close()\n",
        "#You should always close your files, in some cases, due to buffering, changes made to a file may not show until you close the file.\n"
      ],
      "metadata": {
        "id": "XM1lNhfas1FX"
      },
      "execution_count": null,
      "outputs": []
    },
    {
      "cell_type": "code",
      "source": [
        "file1 = open(\"guvi.txt\", \"a\")\n",
        "file1.write(\"bbbbbbbbbb\")\n",
        "file1.close()"
      ],
      "metadata": {
        "id": "y9kEAGFHtgXU"
      },
      "execution_count": null,
      "outputs": []
    },
    {
      "cell_type": "code",
      "source": [
        "os.remove(\"guvi.txt\")"
      ],
      "metadata": {
        "id": "VRZ5DgDPtruB"
      },
      "execution_count": null,
      "outputs": []
    },
    {
      "cell_type": "code",
      "source": [
        "#\\n-->gives the new line\n",
        "#\\t--->gives one tab\n",
        "file1= open(\"guvi2.txt\", \"w\")\n",
        "#Open file for writing\n",
        " \n",
        "text = [\"First Line \\t\", \"Second Line\\n\", \"Third Line\"]\n",
        "file1.writelines(text)\n",
        " \n",
        "#Open file for reading\n",
        "file1= open(\"guvi2.txt\", \"r\")\n",
        "print(file1.read())\n",
        "file1.close()\n"
      ],
      "metadata": {
        "colab": {
          "base_uri": "https://localhost:8080/"
        },
        "id": "QH2H57Wft3u_",
        "outputId": "5714f7bc-3b1c-4918-a75a-4287c74847a3"
      },
      "execution_count": null,
      "outputs": [
        {
          "output_type": "stream",
          "name": "stdout",
          "text": [
            "First Line \tSecond Line\n",
            "Third Line\n"
          ]
        }
      ]
    },
    {
      "cell_type": "code",
      "source": [
        "#gives the current date and time.....\n",
        "!date"
      ],
      "metadata": {
        "colab": {
          "base_uri": "https://localhost:8080/"
        },
        "id": "MRQnsefxvDih",
        "outputId": "c6354cd2-052c-4ab1-9aad-cc67d846ec56"
      },
      "execution_count": null,
      "outputs": [
        {
          "output_type": "stream",
          "name": "stdout",
          "text": [
            "Sat Feb 19 16:06:45 UTC 2022\n"
          ]
        }
      ]
    },
    {
      "cell_type": "code",
      "source": [
        "#one more topic in file handling seek(go through it from google)"
      ],
      "metadata": {
        "id": "jKtsY06VvoFZ"
      },
      "execution_count": null,
      "outputs": []
    }
  ]
}